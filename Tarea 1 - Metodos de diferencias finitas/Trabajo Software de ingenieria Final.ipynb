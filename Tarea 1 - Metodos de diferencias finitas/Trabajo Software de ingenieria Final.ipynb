{
 "cells": [
  {
   "cell_type": "code",
   "execution_count": 264,
   "metadata": {},
   "outputs": [],
   "source": [
    "import numpy as np"
   ]
  },
  {
   "cell_type": "code",
   "execution_count": 265,
   "metadata": {},
   "outputs": [
    {
     "name": "stdout",
     "output_type": "stream",
     "text": [
      "Ingrese valor a h: 1\n"
     ]
    }
   ],
   "source": [
    "h = float(input(\"Ingrese valor a h: \"))"
   ]
  },
  {
   "cell_type": "code",
   "execution_count": 266,
   "metadata": {},
   "outputs": [
    {
     "name": "stdout",
     "output_type": "stream",
     "text": [
      "p_alto :  3\n",
      "p_ancho: 3\n",
      "p_largo: 5\n",
      "Eje medio y:  3\n",
      "<class 'int'>\n"
     ]
    }
   ],
   "source": [
    "\n",
    "Tf = 10 # Temperatura en ptos (x,4,z)\n",
    "g = 0.5 \n",
    "ka = 0.5 # Conductividad\n",
    "\n",
    "i = 0\n",
    "j = 0\n",
    "k = 0\n",
    "\n",
    "# Número de puntos sin considerar caras exteriores en eje Y\n",
    "p_alto = p_ancho = int((2/h)+1)\n",
    "p_largo = int((4/h)+1)\n",
    "print(\"p_alto : \", p_alto) # Puntos eje z\n",
    "print(\"p_ancho:\", p_ancho) # Puntos eje x\n",
    "print(\"p_largo:\", p_largo) # Puntos eje y\n",
    "\n",
    "eje_medio_y = ((p_largo//2)+1)\n",
    "\n",
    "\n",
    "print (\"Eje medio y: \",eje_medio_y)\n",
    "\n",
    "print(type(p_alto))"
   ]
  },
  {
   "cell_type": "code",
   "execution_count": 267,
   "metadata": {},
   "outputs": [],
   "source": [
    "def num_ec(h):\n",
    "    \"\"\"Esta funcion calcula la cantidad de ecuaciones que serán \n",
    "    necesarias para el sistema dependiendo del h entregado\n",
    "    inicialmente\n",
    "    Argumentos: h\n",
    "    \"\"\"\n",
    "    nec = ((4/h)-1)*(((2/h)+1)**2)\n",
    "    #print(nec)\n",
    "    return nec"
   ]
  },
  {
   "cell_type": "code",
   "execution_count": 268,
   "metadata": {},
   "outputs": [
    {
     "name": "stdout",
     "output_type": "stream",
     "text": [
      "[[[0. 0. 0. 0. 0.]\n",
      "  [0. 0. 0. 0. 0.]\n",
      "  [0. 0. 0. 0. 0.]]\n",
      "\n",
      " [[0. 0. 0. 0. 0.]\n",
      "  [0. 0. 0. 0. 0.]\n",
      "  [0. 0. 0. 0. 0.]]\n",
      "\n",
      " [[0. 0. 0. 0. 0.]\n",
      "  [0. 0. 0. 0. 0.]\n",
      "  [0. 0. 0. 0. 0.]]]\n"
     ]
    }
   ],
   "source": [
    "T = np.zeros((p_alto,p_ancho,p_largo))\n",
    "print(T)"
   ]
  },
  {
   "cell_type": "code",
   "execution_count": 269,
   "metadata": {},
   "outputs": [],
   "source": [
    "def traslado_Matriz(T):\n",
    "    \"\"\"\n",
    "    Esta función permite trasladar la Matriz T de 3 dimensiones a la matriz\n",
    "    M_r (Matriz con los coeficientes)\n",
    "    \"\"\"\n",
    "    global con_x\n",
    "    global con_y \n",
    "    global M_r\n",
    "    \n",
    "    for i in range(0,p_ancho):\n",
    "        for j in range(1,p_largo-1):\n",
    "            for k in range(0,p_alto):\n",
    "                M_r[con_x][con_y]=T[k][i][j]\n",
    "                con_x += 1\n",
    "    con_y += 1\n",
    "    con_x = 0\n",
    "    "
   ]
  },
  {
   "cell_type": "code",
   "execution_count": 273,
   "metadata": {},
   "outputs": [],
   "source": [
    "\n",
    "def llenado_matriz_3d(i,j,k,avance_v_r):\n",
    "    \"\"\"\n",
    "    Permite llenar la matriz de 3 dimensiones con los coeficientes del sistema\n",
    "    \"\"\"\n",
    "    global T\n",
    "    \n",
    "    if j<eje_medio_y:\n",
    "        Q = 0\n",
    "    else:\n",
    "        Q = 1\n",
    "    \n",
    "    r = (-Q/ka)*(h**2)\n",
    "    \n",
    "    if (i < p_ancho):\n",
    "        if (i+1) != p_ancho:\n",
    "            T[k][i+1][j] = 1\n",
    "    \n",
    "    if (j < p_largo-1):\n",
    "        T[k][i][j+1] = 1\n",
    "    else:\n",
    "        r = r - 10\n",
    "        \n",
    "    if (k < p_alto):\n",
    "        if (k+1)!=p_alto:\n",
    "            T[k+1][i][j] = 1\n",
    "    \n",
    "    T[k][i][j] = -6\n",
    "    \n",
    "    if (i > 0):\n",
    "        T[k][i-1][j] = 1\n",
    "        \n",
    "    if (j > 0):\n",
    "        if j==1:\n",
    "            T[k][i][j] = T[k][i][j]+1\n",
    "            r = r + 0.5*h\n",
    "        else:\n",
    "            T[k][i][j-1] = 1\n",
    " \n",
    "    \n",
    "    if (k > 0):\n",
    "        T[k-1][i][j] = 1 \n",
    "        \n",
    "    V_r[avance_v_r] = r \n",
    "    \n",
    "    traslado_Matriz(T)\n",
    "    \n",
    "    T = np.zeros((p_alto,p_ancho,p_largo))\n"
   ]
  },
  {
   "cell_type": "markdown",
   "metadata": {},
   "source": [
    "### Main"
   ]
  },
  {
   "cell_type": "code",
   "execution_count": 276,
   "metadata": {},
   "outputs": [
    {
     "name": "stdout",
     "output_type": "stream",
     "text": [
      "Resultados:  [-0.13593063 -0.15608087 -0.13593063  0.13250861  0.17160216  0.13250861\n",
      "  0.58777795  0.69707955  0.58777795 -0.15608087 -0.18014528 -0.15608087\n",
      "  0.17160216  0.2235971   0.17160216  0.69707955  0.83531921  0.69707955\n",
      " -0.13593063 -0.15608087 -0.13593063  0.13250861  0.17160216  0.13250861\n",
      "  0.58777795  0.69707955  0.58777795]\n"
     ]
    }
   ],
   "source": [
    "con_x = 0\n",
    "con_y = 0\n",
    "\n",
    "avance_v_r = 0\n",
    "n_ec = int(num_ec(h))\n",
    "\n",
    "M_r = [[0 for f in range(n_ec)] for g in range(n_ec)] \n",
    "V_r = np.zeros(n_ec) \n",
    "\n",
    "for i in range(0,p_ancho):\n",
    "    for j in range(1,p_largo-1):\n",
    "        for k in range(0,p_alto):\n",
    "            llenado_matriz_3d(i,j,k,avance_v_r)\n",
    "            avance_v_r += 1\n",
    "            \n",
    "#print (V_r)\n",
    "#print(M_r)\n",
    "\n",
    "Resultado = np.linalg.solve(M_r,V_r)\n",
    "print(\"Resultados: \",Resultado)"
   ]
  },
  {
   "cell_type": "code",
   "execution_count": null,
   "metadata": {},
   "outputs": [],
   "source": []
  }
 ],
 "metadata": {
  "kernelspec": {
   "display_name": "Python 3",
   "language": "python",
   "name": "python3"
  },
  "language_info": {
   "codemirror_mode": {
    "name": "ipython",
    "version": 3
   },
   "file_extension": ".py",
   "mimetype": "text/x-python",
   "name": "python",
   "nbconvert_exporter": "python",
   "pygments_lexer": "ipython3",
   "version": "3.6.7"
  }
 },
 "nbformat": 4,
 "nbformat_minor": 2
}
